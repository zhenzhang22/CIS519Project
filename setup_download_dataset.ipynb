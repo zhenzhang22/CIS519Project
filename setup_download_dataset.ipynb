{
 "cells": [
  {
   "cell_type": "markdown",
   "id": "7cb718f7",
   "metadata": {},
   "source": [
    "# Import Kaggle Information"
   ]
  },
  {
   "cell_type": "code",
   "execution_count": 1,
   "id": "7a3c5361",
   "metadata": {},
   "outputs": [],
   "source": [
    "!pip -q install kaggle\n",
    "!pip -q install transformers"
   ]
  },
  {
   "cell_type": "code",
   "execution_count": null,
   "id": "9a11b19b",
   "metadata": {},
   "outputs": [],
   "source": [
    "!mkdir ~/.kaggle\n",
    "!mv kaggle.json ../.kaggle/"
   ]
  },
  {
   "cell_type": "code",
   "execution_count": null,
   "id": "745b3f27",
   "metadata": {},
   "outputs": [],
   "source": [
    "!ls -a ../.kaggle"
   ]
  },
  {
   "cell_type": "code",
   "execution_count": null,
   "id": "1e70a617",
   "metadata": {},
   "outputs": [],
   "source": [
    "!chmod 600 ../.kaggle/kaggle.json"
   ]
  },
  {
   "cell_type": "markdown",
   "id": "5a500409",
   "metadata": {},
   "source": [
    "# Data "
   ]
  },
  {
   "cell_type": "markdown",
   "id": "01239303",
   "metadata": {},
   "source": [
    "## Retrival"
   ]
  },
  {
   "cell_type": "code",
   "execution_count": 2,
   "id": "80b98396",
   "metadata": {},
   "outputs": [
    {
     "name": "stdout",
     "output_type": "stream",
     "text": [
      "ref                                     title                        size  lastUpdated          downloadCount  voteCount  usabilityRating  \r\n",
      "--------------------------------------  --------------------------  -----  -------------------  -------------  ---------  ---------------  \r\n",
      "snap/amazon-fine-food-reviews           Amazon Fine Food Reviews    242MB  2017-05-01 18:51:31         141562       1976  0.7941176        \r\n",
      "ajaysh/amazon-fine-food-reviews         Amazon Fine Food Reviews    128MB  2018-05-15 10:01:32            331          9  0.4117647        \r\n",
      "jitensharma597/text-summarize-data      Text_summarize_data         977MB  2022-11-22 17:05:11              5          0  0.29411766       \r\n",
      "wolfram77/graphs-online-reviews         Online reviews Graphs         3GB  2021-11-12 07:43:43             17          2  0.875            \r\n",
      "apoorvaduraisamy/mydataset              mydataset                    14KB  2021-02-05 14:48:11              5          1  0.125            \r\n",
      "satyabrat35/amazon-food-review-dataset  Amazon Food Review Dataset  118MB  2023-03-08 03:52:18              1          0  0.5              \r\n"
     ]
    }
   ],
   "source": [
    "!kaggle datasets list -s amazon-fine-food-reviews"
   ]
  },
  {
   "cell_type": "code",
   "execution_count": null,
   "id": "bc7f2972",
   "metadata": {},
   "outputs": [],
   "source": [
    "!kaggle datasets download -d snap/amazon-fine-food-reviews"
   ]
  },
  {
   "cell_type": "code",
   "execution_count": 4,
   "id": "49d483ef",
   "metadata": {},
   "outputs": [],
   "source": [
    "!unzip amazon-fine-food-reviews.zip\n",
    "!mkdir data\n",
    "!mv Reviews.csv ./data"
   ]
  },
  {
   "cell_type": "code",
   "execution_count": 9,
   "id": "5411f205",
   "metadata": {
    "scrolled": true
   },
   "outputs": [
    {
     "name": "stdout",
     "output_type": "stream",
     "text": [
      "Reviews.csv\r\n"
     ]
    }
   ],
   "source": [
    "!ls data"
   ]
  },
  {
   "cell_type": "markdown",
   "id": "24bc76e1",
   "metadata": {},
   "source": [
    "## Load Data"
   ]
  },
  {
   "cell_type": "code",
   "execution_count": 10,
   "id": "7fbe911f",
   "metadata": {},
   "outputs": [
    {
     "name": "stdout",
     "output_type": "stream",
     "text": [
      "(568454, 10)\n"
     ]
    }
   ],
   "source": [
    "import pandas as pd \n",
    "df = pd.read_csv('./data/Reviews.csv')\n",
    "print(df.shape)"
   ]
  },
  {
   "cell_type": "code",
   "execution_count": null,
   "id": "34ae9a38",
   "metadata": {},
   "outputs": [],
   "source": []
  }
 ],
 "metadata": {
  "kernelspec": {
   "display_name": "conda_python3",
   "language": "python",
   "name": "conda_python3"
  },
  "language_info": {
   "codemirror_mode": {
    "name": "ipython",
    "version": 3
   },
   "file_extension": ".py",
   "mimetype": "text/x-python",
   "name": "python",
   "nbconvert_exporter": "python",
   "pygments_lexer": "ipython3",
   "version": "3.10.8"
  }
 },
 "nbformat": 4,
 "nbformat_minor": 5
}
